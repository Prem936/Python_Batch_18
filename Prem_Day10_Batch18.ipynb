{
 "cells": [
  {
   "cell_type": "code",
   "execution_count": null,
   "metadata": {},
   "outputs": [],
   "source": [
    "## looping through dictionaries"
   ]
  },
  {
   "cell_type": "code",
   "execution_count": 1,
   "metadata": {},
   "outputs": [],
   "source": [
    "user={'f_name':'code','l_name':'training','username':'codetraining','pwd':12345,'dob':'01-01-2019'}"
   ]
  },
  {
   "cell_type": "code",
   "execution_count": 2,
   "metadata": {},
   "outputs": [
    {
     "name": "stdout",
     "output_type": "stream",
     "text": [
      "{'f_name': 'code', 'l_name': 'training', 'username': 'codetraining', 'pwd': 12345, 'dob': '01-01-2019'}\n"
     ]
    }
   ],
   "source": [
    "print(user)"
   ]
  },
  {
   "cell_type": "code",
   "execution_count": 3,
   "metadata": {},
   "outputs": [
    {
     "data": {
      "text/plain": [
       "dict"
      ]
     },
     "execution_count": 3,
     "metadata": {},
     "output_type": "execute_result"
    }
   ],
   "source": [
    "type(user)"
   ]
  },
  {
   "cell_type": "code",
   "execution_count": null,
   "metadata": {},
   "outputs": [],
   "source": [
    "#### How do use loop through a dictionary"
   ]
  },
  {
   "cell_type": "code",
   "execution_count": null,
   "metadata": {},
   "outputs": [],
   "source": [
    "## General Syntax\n",
    "#for tempvar in mainvar:\n",
    "#    print(tempvar)"
   ]
  },
  {
   "cell_type": "code",
   "execution_count": null,
   "metadata": {},
   "outputs": [],
   "source": [
    "key-value  dict data type we will be able to define 2 temp variables"
   ]
  },
  {
   "cell_type": "code",
   "execution_count": 7,
   "metadata": {},
   "outputs": [
    {
     "name": "stdout",
     "output_type": "stream",
     "text": [
      " key : f_name\n",
      " value : code\n",
      " key : l_name\n",
      " value : training\n",
      " key : username\n",
      " value : codetraining\n",
      " key : pwd\n",
      " value : 12345\n",
      " key : dob\n",
      " value : 01-01-2019\n"
     ]
    }
   ],
   "source": [
    "for key,value in user.items():\n",
    "    print(f\" key : {key}\")\n",
    "    print(f\" value : {value}\")"
   ]
  },
  {
   "cell_type": "code",
   "execution_count": 9,
   "metadata": {},
   "outputs": [
    {
     "name": "stdout",
     "output_type": "stream",
     "text": [
      "key : f_name\n",
      "value : code\n",
      "key : l_name\n",
      "value : training\n",
      "key : username\n",
      "value : codetraining\n",
      "key : pwd\n",
      "value : 12345\n",
      "key : dob\n",
      "value : 01-01-2019\n"
     ]
    }
   ],
   "source": [
    "for x,y in user.items():\n",
    "    print(f\"key : {x}\")\n",
    "    print(f\"value : {y}\")"
   ]
  },
  {
   "cell_type": "code",
   "execution_count": null,
   "metadata": {},
   "outputs": [],
   "source": [
    "#Enhancement of the code"
   ]
  },
  {
   "cell_type": "code",
   "execution_count": 16,
   "metadata": {},
   "outputs": [
    {
     "name": "stdout",
     "output_type": "stream",
     "text": [
      "key : f_name\n",
      "value : code\n",
      "\n",
      "key : l_name\n",
      "value : training\n",
      "\n",
      "key : username\n",
      "value : codetraining\n",
      "\n",
      "key : pwd\n",
      "value : 12345\n",
      "\n",
      "key : dob\n",
      "value : 01-01-2019\n",
      "\n"
     ]
    }
   ],
   "source": [
    "for x,y in user.items():\n",
    "    print(f\"key : {x}\")\n",
    "    print(f\"value : {y}\\n\")"
   ]
  },
  {
   "cell_type": "code",
   "execution_count": null,
   "metadata": {},
   "outputs": [],
   "source": [
    "## Req: To get only keys in the output"
   ]
  },
  {
   "cell_type": "code",
   "execution_count": 18,
   "metadata": {},
   "outputs": [
    {
     "name": "stdout",
     "output_type": "stream",
     "text": [
      "f_name\n",
      "l_name\n",
      "username\n",
      "pwd\n",
      "dob\n"
     ]
    }
   ],
   "source": [
    "for a in user.keys():\n",
    "    print(a)"
   ]
  },
  {
   "cell_type": "code",
   "execution_count": null,
   "metadata": {},
   "outputs": [],
   "source": [
    "#Req: To get only values in the output"
   ]
  },
  {
   "cell_type": "code",
   "execution_count": 19,
   "metadata": {},
   "outputs": [
    {
     "name": "stdout",
     "output_type": "stream",
     "text": [
      "code\n",
      "training\n",
      "codetraining\n",
      "12345\n",
      "01-01-2019\n"
     ]
    }
   ],
   "source": [
    "for b in user.values():\n",
    "    print(b)"
   ]
  },
  {
   "cell_type": "code",
   "execution_count": null,
   "metadata": {},
   "outputs": [],
   "source": [
    "#Req: Conducting a survey for a group of students to choose their favourite language."
   ]
  },
  {
   "cell_type": "code",
   "execution_count": 20,
   "metadata": {},
   "outputs": [],
   "source": [
    "f_language = {'tim':'python','dave':'scala','peter':'cobol','sarah':'c','sam':'java'}"
   ]
  },
  {
   "cell_type": "code",
   "execution_count": 21,
   "metadata": {},
   "outputs": [
    {
     "name": "stdout",
     "output_type": "stream",
     "text": [
      "{'tim': 'python', 'dave': 'scala', 'peter': 'cobol', 'sarah': 'c', 'sam': 'java'}\n"
     ]
    }
   ],
   "source": [
    "print(f_language)"
   ]
  },
  {
   "cell_type": "code",
   "execution_count": 22,
   "metadata": {},
   "outputs": [
    {
     "data": {
      "text/plain": [
       "dict"
      ]
     },
     "execution_count": 22,
     "metadata": {},
     "output_type": "execute_result"
    }
   ],
   "source": [
    "type(f_language)"
   ]
  },
  {
   "cell_type": "code",
   "execution_count": 23,
   "metadata": {},
   "outputs": [
    {
     "name": "stdout",
     "output_type": "stream",
     "text": [
      " Tim's favourite language is Python.\n",
      " Dave's favourite language is Scala.\n",
      " Peter's favourite language is Cobol.\n",
      " Sarah's favourite language is C.\n",
      " Sam's favourite language is Java.\n"
     ]
    }
   ],
   "source": [
    "for name,language in f_language.items():\n",
    "    print(f\" {name.title()}'s favourite language is {language.title()}.\")"
   ]
  },
  {
   "cell_type": "code",
   "execution_count": null,
   "metadata": {},
   "outputs": [],
   "source": []
  }
 ],
 "metadata": {
  "kernelspec": {
   "display_name": "Python 3",
   "language": "python",
   "name": "python3"
  },
  "language_info": {
   "codemirror_mode": {
    "name": "ipython",
    "version": 3
   },
   "file_extension": ".py",
   "mimetype": "text/x-python",
   "name": "python",
   "nbconvert_exporter": "python",
   "pygments_lexer": "ipython3",
   "version": "3.7.6"
  }
 },
 "nbformat": 4,
 "nbformat_minor": 4
}
