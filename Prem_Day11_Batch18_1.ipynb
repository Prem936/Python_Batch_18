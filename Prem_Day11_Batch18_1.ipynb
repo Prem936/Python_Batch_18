{
 "cells": [
  {
   "cell_type": "code",
   "execution_count": null,
   "metadata": {},
   "outputs": [],
   "source": [
    "### Introduction to while loop"
   ]
  },
  {
   "cell_type": "code",
   "execution_count": null,
   "metadata": {},
   "outputs": [],
   "source": [
    "#while loop key word   -> while ->"
   ]
  },
  {
   "cell_type": "code",
   "execution_count": null,
   "metadata": {},
   "outputs": [],
   "source": [
    "#Depends up on the condition it will be executing"
   ]
  },
  {
   "cell_type": "code",
   "execution_count": 1,
   "metadata": {},
   "outputs": [
    {
     "name": "stdout",
     "output_type": "stream",
     "text": [
      "1\n",
      "2\n",
      "3\n",
      "4\n",
      "5\n"
     ]
    }
   ],
   "source": [
    "current_num = 1\n",
    "while current_num <= 5:\n",
    "    print(current_num)\n",
    "    current_num +=1 #increment 1 value"
   ]
  },
  {
   "cell_type": "code",
   "execution_count": 2,
   "metadata": {},
   "outputs": [
    {
     "name": "stdout",
     "output_type": "stream",
     "text": [
      "1\n",
      "2\n",
      "3\n",
      "4\n",
      "5\n",
      "6\n",
      "7\n",
      "8\n",
      "9\n",
      "10\n"
     ]
    }
   ],
   "source": [
    "cur_num = 1\n",
    "while cur_num <= 10:\n",
    "    print(cur_num)\n",
    "    cur_num +=1"
   ]
  },
  {
   "cell_type": "code",
   "execution_count": null,
   "metadata": {},
   "outputs": [],
   "source": [
    "## Enhanced usage of while loop"
   ]
  },
  {
   "cell_type": "code",
   "execution_count": 3,
   "metadata": {},
   "outputs": [
    {
     "name": "stdout",
     "output_type": "stream",
     "text": [
      "\n",
      " Tell me something, i will repeat it for you again\n",
      " Enter 'quit to end the program'Hi\n",
      "Hi\n",
      "\n",
      " Tell me something, i will repeat it for you again\n",
      " Enter 'quit to end the program'Hello\n",
      "Hello\n",
      "\n",
      " Tell me something, i will repeat it for you again\n",
      " Enter 'quit to end the program'My Name is Tom\n",
      "My Name is Tom\n",
      "\n",
      " Tell me something, i will repeat it for you again\n",
      " Enter 'quit to end the program'quit\n",
      "quit\n"
     ]
    }
   ],
   "source": [
    "prompt = \"\\n Tell me something, i will repeat it for you again\"\n",
    "prompt += \"\\n Enter 'quit to end the program'\"\n",
    "message = \" \"\n",
    "while message != 'quit':\n",
    "    message = input(prompt)\n",
    "    print(message)"
   ]
  },
  {
   "cell_type": "code",
   "execution_count": null,
   "metadata": {},
   "outputs": [],
   "source": [
    "### Uisng the break to exit loop"
   ]
  },
  {
   "cell_type": "code",
   "execution_count": null,
   "metadata": {},
   "outputs": [
    {
     "name": "stdout",
     "output_type": "stream",
     "text": [
      "\n",
      "Please enter the name of the city you have visited\n",
      "(Enter 'quit' when you are finished)Bangalore\n",
      "I'd have to go to Bangalore!\n",
      "\n",
      "Please enter the name of the city you have visited\n",
      "(Enter 'quit' when you are finished)Hyderabad\n",
      "I'd have to go to Hyderabad!\n",
      "\n",
      "Please enter the name of the city you have visited\n",
      "(Enter 'quit' when you are finished)quit\n",
      "exit\n",
      "\n",
      "Please enter the name of the city you have visited\n",
      "(Enter 'quit' when you are finished)exit\n",
      "I'd have to go to Exit!\n",
      "\n",
      "Please enter the name of the city you have visited\n",
      "(Enter 'quit' when you are finished)quit\n",
      "exit\n",
      "\n",
      "Please enter the name of the city you have visited\n",
      "(Enter 'quit' when you are finished)\n",
      "I'd have to go to !\n",
      "\n",
      "Please enter the name of the city you have visited\n",
      "(Enter 'quit' when you are finished)\n",
      "I'd have to go to !\n"
     ]
    }
   ],
   "source": [
    "prompt = \"\\nPlease enter the name of the city you have visited\"\n",
    "prompt += \"\\n(Enter 'quit' when you are finished)\"\n",
    "while True:\n",
    "    city = input(prompt)\n",
    "    if city == 'quit':\n",
    "        print('exit')\n",
    "    else:\n",
    "        print(f\"I'd have to go to {city.title()}!\")"
   ]
  },
  {
   "cell_type": "code",
   "execution_count": null,
   "metadata": {},
   "outputs": [],
   "source": []
  },
  {
   "cell_type": "code",
   "execution_count": null,
   "metadata": {},
   "outputs": [],
   "source": []
  },
  {
   "cell_type": "code",
   "execution_count": null,
   "metadata": {},
   "outputs": [],
   "source": []
  },
  {
   "cell_type": "code",
   "execution_count": null,
   "metadata": {},
   "outputs": [],
   "source": []
  },
  {
   "cell_type": "code",
   "execution_count": null,
   "metadata": {},
   "outputs": [],
   "source": []
  },
  {
   "cell_type": "code",
   "execution_count": null,
   "metadata": {},
   "outputs": [],
   "source": []
  },
  {
   "cell_type": "code",
   "execution_count": null,
   "metadata": {},
   "outputs": [],
   "source": []
  }
 ],
 "metadata": {
  "kernelspec": {
   "display_name": "Python 3",
   "language": "python",
   "name": "python3"
  },
  "language_info": {
   "codemirror_mode": {
    "name": "ipython",
    "version": 3
   },
   "file_extension": ".py",
   "mimetype": "text/x-python",
   "name": "python",
   "nbconvert_exporter": "python",
   "pygments_lexer": "ipython3",
   "version": "3.7.6"
  }
 },
 "nbformat": 4,
 "nbformat_minor": 4
}
