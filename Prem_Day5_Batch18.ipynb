{
 "cells": [
  {
   "cell_type": "code",
   "execution_count": null,
   "metadata": {},
   "outputs": [],
   "source": [
    "###### Introduction to for loop"
   ]
  },
  {
   "cell_type": "code",
   "execution_count": 3,
   "metadata": {},
   "outputs": [],
   "source": [
    "my_students=['tom','peter','mark','sarah','sam','louis']"
   ]
  },
  {
   "cell_type": "code",
   "execution_count": 4,
   "metadata": {},
   "outputs": [
    {
     "name": "stdout",
     "output_type": "stream",
     "text": [
      "['tom', 'peter', 'mark', 'sarah', 'sam', 'louis']\n"
     ]
    }
   ],
   "source": [
    "print(my_students)"
   ]
  },
  {
   "cell_type": "code",
   "execution_count": 6,
   "metadata": {},
   "outputs": [
    {
     "name": "stdout",
     "output_type": "stream",
     "text": [
      "my name is : tom\n"
     ]
    }
   ],
   "source": [
    "print(f\"my name is : {my_students[0]}\")"
   ]
  },
  {
   "cell_type": "code",
   "execution_count": 7,
   "metadata": {},
   "outputs": [
    {
     "name": "stdout",
     "output_type": "stream",
     "text": [
      "my name is : Tom\n"
     ]
    }
   ],
   "source": [
    "print(f\"my name is : {my_students[0].title()}\")"
   ]
  },
  {
   "cell_type": "code",
   "execution_count": null,
   "metadata": {},
   "outputs": [],
   "source": [
    "###### General Syntax of for loop"
   ]
  },
  {
   "cell_type": "code",
   "execution_count": 8,
   "metadata": {},
   "outputs": [
    {
     "name": "stdout",
     "output_type": "stream",
     "text": [
      "tom\n",
      "peter\n",
      "mark\n",
      "sarah\n",
      "sam\n",
      "louis\n"
     ]
    }
   ],
   "source": [
    "for name in my_students:\n",
    "    print(name)"
   ]
  },
  {
   "cell_type": "code",
   "execution_count": null,
   "metadata": {},
   "outputs": [],
   "source": []
  },
  {
   "cell_type": "code",
   "execution_count": 9,
   "metadata": {},
   "outputs": [
    {
     "name": "stdout",
     "output_type": "stream",
     "text": [
      "Tom\n",
      "Peter\n",
      "Mark\n",
      "Sarah\n",
      "Sam\n",
      "Louis\n"
     ]
    }
   ],
   "source": [
    "for name in my_students:\n",
    "    print(name.title())"
   ]
  },
  {
   "cell_type": "code",
   "execution_count": null,
   "metadata": {},
   "outputs": [],
   "source": [
    "####### Enhancement of code"
   ]
  },
  {
   "cell_type": "code",
   "execution_count": 12,
   "metadata": {},
   "outputs": [
    {
     "name": "stdout",
     "output_type": "stream",
     "text": [
      "My name is : Tom\n",
      "My name is : Peter\n",
      "My name is : Mark\n",
      "My name is : Sarah\n",
      "My name is : Sam\n",
      "My name is : Louis\n"
     ]
    }
   ],
   "source": [
    "for name in my_students:\n",
    "    print(f\"My name is : {name.title()}\")"
   ]
  },
  {
   "cell_type": "code",
   "execution_count": null,
   "metadata": {},
   "outputs": [],
   "source": [
    "for name in my_students:\n",
    "    print(f\"My name is : {name.title()}\")"
   ]
  },
  {
   "cell_type": "code",
   "execution_count": 13,
   "metadata": {},
   "outputs": [
    {
     "name": "stdout",
     "output_type": "stream",
     "text": [
      "My name is : Tom\n",
      "I am working as a Python Developer\n",
      "My name is : Peter\n",
      "I am working as a Python Developer\n",
      "My name is : Mark\n",
      "I am working as a Python Developer\n",
      "My name is : Sarah\n",
      "I am working as a Python Developer\n",
      "My name is : Sam\n",
      "I am working as a Python Developer\n",
      "My name is : Louis\n",
      "I am working as a Python Developer\n"
     ]
    }
   ],
   "source": [
    "for name in my_students:\n",
    "    print(f\"My name is : {name.title()}\")\n",
    "    print(f\"I am working as a Python Developer\")"
   ]
  },
  {
   "cell_type": "code",
   "execution_count": 16,
   "metadata": {},
   "outputs": [
    {
     "name": "stdout",
     "output_type": "stream",
     "text": [
      "My name is : Tom \n",
      "\n",
      "My name is : Peter \n",
      "\n",
      "My name is : Mark \n",
      "\n",
      "My name is : Sarah \n",
      "\n",
      "My name is : Sam \n",
      "\n",
      "My name is : Louis \n",
      "\n"
     ]
    }
   ],
   "source": [
    "for name in my_students:\n",
    "    print(f\"My name is : {name.title()} \\n\")"
   ]
  },
  {
   "cell_type": "code",
   "execution_count": null,
   "metadata": {},
   "outputs": [],
   "source": [
    "######## Introduction to if condition"
   ]
  },
  {
   "cell_type": "code",
   "execution_count": 17,
   "metadata": {},
   "outputs": [
    {
     "name": "stdout",
     "output_type": "stream",
     "text": [
      "['tom', 'peter', 'mark', 'sarah', 'sam', 'louis']\n"
     ]
    }
   ],
   "source": [
    "print(my_students)"
   ]
  },
  {
   "cell_type": "code",
   "execution_count": 69,
   "metadata": {},
   "outputs": [
    {
     "name": "stdout",
     "output_type": "stream",
     "text": [
      "TOM\n",
      "Peter\n",
      "Mark\n",
      "Sarah\n",
      "Sam\n",
      "Louis\n"
     ]
    }
   ],
   "source": [
    "for name in my_students:\n",
    "    if name == 'tom':\n",
    "        print(name.upper())\n",
    "    else:\n",
    "        print(name.title())"
   ]
  },
  {
   "cell_type": "code",
   "execution_count": null,
   "metadata": {},
   "outputs": [],
   "source": []
  },
  {
   "cell_type": "code",
   "execution_count": null,
   "metadata": {},
   "outputs": [],
   "source": []
  }
 ],
 "metadata": {
  "kernelspec": {
   "display_name": "Python 3",
   "language": "python",
   "name": "python3"
  },
  "language_info": {
   "codemirror_mode": {
    "name": "ipython",
    "version": 3
   },
   "file_extension": ".py",
   "mimetype": "text/x-python",
   "name": "python",
   "nbconvert_exporter": "python",
   "pygments_lexer": "ipython3",
   "version": "3.7.6"
  }
 },
 "nbformat": 4,
 "nbformat_minor": 4
}
