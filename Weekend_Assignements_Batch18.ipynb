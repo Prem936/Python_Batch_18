{
 "cells": [
  {
   "cell_type": "code",
   "execution_count": null,
   "metadata": {},
   "outputs": [],
   "source": [
    "##T-Shirt: Write a function called make_shirt() that accepts a size and the text of a message \n",
    "#that should be printed on the shirt. \n",
    "#The function should print a sentence summarizing the size of the shirt and the message printed on it. "
   ]
  },
  {
   "cell_type": "code",
   "execution_count": 2,
   "metadata": {},
   "outputs": [],
   "source": [
    "def make_shirt(size):\n",
    "    \"\"\"Display simple message on T-Shirt\"\"\"\n",
    "    print(f\"The T-Shirt size is {size.title()}\")"
   ]
  },
  {
   "cell_type": "code",
   "execution_count": 3,
   "metadata": {},
   "outputs": [
    {
     "name": "stdout",
     "output_type": "stream",
     "text": [
      "The T-Shirt size is Medium\n"
     ]
    }
   ],
   "source": [
    "make_shirt('Medium')"
   ]
  },
  {
   "cell_type": "code",
   "execution_count": 4,
   "metadata": {},
   "outputs": [
    {
     "name": "stdout",
     "output_type": "stream",
     "text": [
      "The T-Shirt size is Large\n"
     ]
    }
   ],
   "source": [
    "make_shirt('Large')"
   ]
  },
  {
   "cell_type": "code",
   "execution_count": 5,
   "metadata": {},
   "outputs": [
    {
     "name": "stdout",
     "output_type": "stream",
     "text": [
      "The T-Shirt size is Small\n"
     ]
    }
   ],
   "source": [
    "make_shirt('Small')"
   ]
  },
  {
   "cell_type": "code",
   "execution_count": 8,
   "metadata": {},
   "outputs": [],
   "source": [
    "def make_shirt(size,colour):\n",
    "    print(f\"The T-Shirt size is {size} and T-Shirt colour is {colour.title()}\")"
   ]
  },
  {
   "cell_type": "code",
   "execution_count": 9,
   "metadata": {},
   "outputs": [
    {
     "name": "stdout",
     "output_type": "stream",
     "text": [
      "The T-Shirt size is small and T-Shirt colour is Yellow\n"
     ]
    }
   ],
   "source": [
    "make_shirt('small','yellow')"
   ]
  },
  {
   "cell_type": "code",
   "execution_count": 10,
   "metadata": {},
   "outputs": [
    {
     "name": "stdout",
     "output_type": "stream",
     "text": [
      "The T-Shirt size is medium and T-Shirt colour is White\n"
     ]
    }
   ],
   "source": [
    "make_shirt('medium','white')"
   ]
  },
  {
   "cell_type": "code",
   "execution_count": 11,
   "metadata": {},
   "outputs": [
    {
     "name": "stdout",
     "output_type": "stream",
     "text": [
      "The T-Shirt size is large and T-Shirt colour is Red\n"
     ]
    }
   ],
   "source": [
    "make_shirt('large','red')"
   ]
  },
  {
   "cell_type": "code",
   "execution_count": null,
   "metadata": {},
   "outputs": [],
   "source": [
    "##Large Shirts: Modify the make_shirt() function so that shirts are large by default with a message that reads I love Python. \n",
    "#Make a large shirt and a medium shirt with the default message, and a shirt of any size with a different message. "
   ]
  },
  {
   "cell_type": "code",
   "execution_count": 6,
   "metadata": {},
   "outputs": [],
   "source": [
    "def make_shirt(size,message='I love python'):\n",
    "    print(f\"The T-Shirt size is {size} and {message.title()}\")"
   ]
  },
  {
   "cell_type": "code",
   "execution_count": 7,
   "metadata": {},
   "outputs": [
    {
     "name": "stdout",
     "output_type": "stream",
     "text": [
      "The T-Shirt size is large and I Love Python\n"
     ]
    }
   ],
   "source": [
    "make_shirt('large')"
   ]
  },
  {
   "cell_type": "code",
   "execution_count": 8,
   "metadata": {},
   "outputs": [
    {
     "name": "stdout",
     "output_type": "stream",
     "text": [
      "The T-Shirt size is short and I Love Aws\n"
     ]
    }
   ],
   "source": [
    "make_shirt('short','i love AWS')"
   ]
  },
  {
   "cell_type": "code",
   "execution_count": 9,
   "metadata": {},
   "outputs": [
    {
     "name": "stdout",
     "output_type": "stream",
     "text": [
      "The T-Shirt size is medium and I Love Java\n"
     ]
    }
   ],
   "source": [
    "make_shirt('medium','i love java')"
   ]
  },
  {
   "cell_type": "code",
   "execution_count": null,
   "metadata": {},
   "outputs": [],
   "source": [
    "###Cities: Write a function called describe_city() that accepts the name of a city and its country. \n",
    "#The function should print a simple sentence, such as Reykjavik is in Iceland. \n",
    "#Give the parameter for the country a default value. \n",
    "#Call your function for three different cities, at least one of which is not in the default country. "
   ]
  },
  {
   "cell_type": "code",
   "execution_count": 11,
   "metadata": {},
   "outputs": [],
   "source": [
    "def describe_city(city,country='India'):\n",
    "    print(f\"The {city.title()} is in {country.title()}\")"
   ]
  },
  {
   "cell_type": "code",
   "execution_count": 12,
   "metadata": {},
   "outputs": [
    {
     "name": "stdout",
     "output_type": "stream",
     "text": [
      "The Bangalore is in India\n"
     ]
    }
   ],
   "source": [
    "describe_city('bangalore')"
   ]
  },
  {
   "cell_type": "code",
   "execution_count": 13,
   "metadata": {},
   "outputs": [
    {
     "name": "stdout",
     "output_type": "stream",
     "text": [
      "The London is in Uk\n"
     ]
    }
   ],
   "source": [
    "describe_city('london','uk')"
   ]
  },
  {
   "cell_type": "code",
   "execution_count": 14,
   "metadata": {},
   "outputs": [
    {
     "name": "stdout",
     "output_type": "stream",
     "text": [
      "The Newyork is in Usa\n"
     ]
    }
   ],
   "source": [
    "describe_city('newyork','usa')"
   ]
  },
  {
   "cell_type": "code",
   "execution_count": null,
   "metadata": {},
   "outputs": [],
   "source": []
  }
 ],
 "metadata": {
  "kernelspec": {
   "display_name": "Python 3",
   "language": "python",
   "name": "python3"
  },
  "language_info": {
   "codemirror_mode": {
    "name": "ipython",
    "version": 3
   },
   "file_extension": ".py",
   "mimetype": "text/x-python",
   "name": "python",
   "nbconvert_exporter": "python",
   "pygments_lexer": "ipython3",
   "version": "3.7.6"
  }
 },
 "nbformat": 4,
 "nbformat_minor": 4
}
